{
 "cells": [
  {
   "cell_type": "code",
   "execution_count": 1,
   "metadata": {},
   "outputs": [],
   "source": [
    "import scrapy\n",
    "import json\n",
    "from scrapy.crawler import CrawlerProcess\n",
    "class MySpider(scrapy.Spider):\n",
    "    name = \"crawler\"\n",
    "    start_urls = ['https://www.alphavantage.co/query?function=DIGITAL_CURRENCY_INTRADAY&symbol=BTC&market=EUR&apikey=demo']\n",
    "    \n",
    "    def parse(self, response):\n",
    "        print('test')\n",
    "        jsonresponse = json.loads(response.body_as_unicode())\n",
    "    \n",
    "        yield {\n",
    "            'Meta Data': jsonresponse[\"Meta Data\"],\n",
    "            'Time Series (Digital Currency Intraday)': jsonresponse[\"Time Series (Digital Currency Intraday)\"]\n",
    "            }\n",
    "process = CrawlerProcess({\n",
    "    'FEED_FORMAT': 'json',\n",
    "    'FEED_URI': 'PythonLinks2.json',\n",
    "    # Note that because we are doing API queries, the robots.txt file doesn't apply to us.\n",
    "    'AUTOTHROTTLE_ENABLED': True,\n",
    "    'HTTPCACHE_ENABLED': True,\n",
    "    'LOG_ENABLED': False,\n",
    "})"
   ]
  },
  {
   "cell_type": "code",
   "execution_count": 2,
   "metadata": {},
   "outputs": [
    {
     "name": "stdout",
     "output_type": "stream",
     "text": [
      "test\n",
      "{'1. Information': 'Intraday Prices and Volumes for Digital Currency', '2. Digital Currency Code': 'BTC', '3. Digital Currency Name': 'Bitcoin', '4. Market Code': 'EUR', '5. Market Name': 'Euro', '6. Interval': '5min', '7. Last Refreshed': '2018-02-08 18:30:00', '8. Time Zone': 'UTC'}\n",
      "Euro\n"
     ]
    }
   ],
   "source": [
    "# Starting the crawler with our spider.\n",
    "process.crawl(MySpider)\n",
    "process.start()\n",
    "import pandas as pd\n",
    "test=pd.read_json('PythonLinks2.json', orient = 'records')\n",
    "print(test['Meta Data'][0])\n",
    "print(test['Meta Data'][0]['5. Market Name'])"
   ]
  },
  {
   "cell_type": "code",
   "execution_count": null,
   "metadata": {},
   "outputs": [],
   "source": []
  }
 ],
 "metadata": {
  "kernelspec": {
   "display_name": "Python 3",
   "language": "python",
   "name": "python3"
  },
  "language_info": {
   "codemirror_mode": {
    "name": "ipython",
    "version": 3
   },
   "file_extension": ".py",
   "mimetype": "text/x-python",
   "name": "python",
   "nbconvert_exporter": "python",
   "pygments_lexer": "ipython3",
   "version": "3.6.3"
  }
 },
 "nbformat": 4,
 "nbformat_minor": 2
}
