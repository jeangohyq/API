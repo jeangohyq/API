{
 "cells": [
  {
   "cell_type": "code",
   "execution_count": 1,
   "metadata": {},
   "outputs": [],
   "source": [
    "import scrapy\n",
    "import json\n",
    "from scrapy.crawler import CrawlerProcess\n",
    "class MySpider(scrapy.Spider):\n",
    "    name = \"crawler\"\n",
    "    start_urls = ['https://www.alphavantage.co/query?function=DIGITAL_CURRENCY_INTRADAY&symbol=BTC&market=EUR&apikey=demo']\n",
    "    \n",
    "    def parse(self, response):     #Self is passing the object to itself. Response is the website loaded in json.\n",
    "        #print('test')\n",
    "        jsonresponse = json.loads(response.body_as_unicode())\n",
    "    \n",
    "        yield {\n",
    "            'Meta Data': jsonresponse[\"Meta Data\"],\n",
    "            'Time Series (Digital Currency Intraday)': jsonresponse[\"Time Series (Digital Currency Intraday)\"][0][\"2018-02-08 11:55:00\"]\n",
    "            }\n",
    "process = CrawlerProcess({\n",
    "    'FEED_FORMAT': 'json',\n",
    "    'FEED_URI': 'PythonLinks3.json',\n",
    "    # Note that because we are doing API queries, the robots.txt file doesn't apply to us.\n",
    "    'AUTOTHROTTLE_ENABLED': True,\n",
    "    'HTTPCACHE_ENABLED': True,\n",
    "    'LOG_ENABLED': False,\n",
    "})"
   ]
  },
  {
   "cell_type": "code",
   "execution_count": 2,
   "metadata": {},
   "outputs": [
    {
     "name": "stdout",
     "output_type": "stream",
     "text": [
      "{'1. Information': 'Intraday Prices and Volumes for Digital Currency', '2. Digital Currency Code': 'BTC', '3. Digital Currency Name': 'Bitcoin', '4. Market Code': 'EUR', '5. Market Name': 'Euro', '6. Interval': '5min', '7. Last Refreshed': '2018-02-08 18:30:00', '8. Time Zone': 'UTC'}\n",
      "Euro\n"
     ]
    }
   ],
   "source": [
    "# Starting the crawler with our spider.\n",
    "process.crawl(MySpider)\n",
    "process.start()\n",
    "import pandas as pd\n",
    "test=pd.read_json('PythonLinks3.json', orient = 'records')\n",
    "print(test['Meta Data'][0])\n",
    "print(test['Meta Data'][0]['5. Market Name'])"
   ]
  },
  {
   "cell_type": "code",
   "execution_count": 8,
   "metadata": {},
   "outputs": [
    {
     "name": "stdout",
     "output_type": "stream",
     "text": [
      "{'1a. price (EUR)': '6966.24176402', '1b. price (USD)': '8528.41760130', '2. volume': '55427.72191515', '3. market cap (USD)': '472710759.18131000'}\n"
     ]
    }
   ],
   "source": [
    "print(test['Time Series (Digital Currency Intraday)'][0][\"2018-02-08 11:55:00\"])"
   ]
  },
  {
   "cell_type": "code",
   "execution_count": 15,
   "metadata": {},
   "outputs": [
    {
     "data": {
      "text/html": [
       "<div>\n",
       "<style scoped>\n",
       "    .dataframe tbody tr th:only-of-type {\n",
       "        vertical-align: middle;\n",
       "    }\n",
       "\n",
       "    .dataframe tbody tr th {\n",
       "        vertical-align: top;\n",
       "    }\n",
       "\n",
       "    .dataframe thead th {\n",
       "        text-align: right;\n",
       "    }\n",
       "</style>\n",
       "<table border=\"1\" class=\"dataframe\">\n",
       "  <thead>\n",
       "    <tr style=\"text-align: right;\">\n",
       "      <th></th>\n",
       "      <th>Time</th>\n",
       "    </tr>\n",
       "  </thead>\n",
       "  <tbody>\n",
       "    <tr>\n",
       "      <th>0</th>\n",
       "      <td>2018-02-08 18:30:00</td>\n",
       "    </tr>\n",
       "    <tr>\n",
       "      <th>1</th>\n",
       "      <td>2018-02-08 18:25:00</td>\n",
       "    </tr>\n",
       "    <tr>\n",
       "      <th>2</th>\n",
       "      <td>2018-02-08 18:20:00</td>\n",
       "    </tr>\n",
       "    <tr>\n",
       "      <th>3</th>\n",
       "      <td>2018-02-08 18:15:00</td>\n",
       "    </tr>\n",
       "    <tr>\n",
       "      <th>4</th>\n",
       "      <td>2018-02-08 18:10:00</td>\n",
       "    </tr>\n",
       "  </tbody>\n",
       "</table>\n",
       "</div>"
      ],
      "text/plain": [
       "                  Time\n",
       "0  2018-02-08 18:30:00\n",
       "1  2018-02-08 18:25:00\n",
       "2  2018-02-08 18:20:00\n",
       "3  2018-02-08 18:15:00\n",
       "4  2018-02-08 18:10:00"
      ]
     },
     "execution_count": 15,
     "metadata": {},
     "output_type": "execute_result"
    }
   ],
   "source": [
    "#Extracting all the time stamps.\n",
    "#test['Time Series (Digital Currency Intraday)'][0].keys()\n",
    "df = pd.DataFrame({'Time': list(test['Time Series (Digital Currency Intraday)'][0].keys())})\n",
    "df.head()"
   ]
  },
  {
   "cell_type": "code",
   "execution_count": 22,
   "metadata": {},
   "outputs": [],
   "source": [
    "EUR = list()\n",
    "USD = list()\n",
    "\n",
    "for time in df['Time']:\n",
    "    EUR.append(test['Time Series (Digital Currency Intraday)'][0][time]['1a. price (EUR)'])\n",
    "    USD.append(test['Time Series (Digital Currency Intraday)'][0][time]['1b. price (USD)'])"
   ]
  },
  {
   "cell_type": "code",
   "execution_count": 23,
   "metadata": {},
   "outputs": [
    {
     "name": "stdout",
     "output_type": "stream",
     "text": [
      "                  Time         EUR_px         USD_px\n",
      "0  2018-02-08 18:30:00  6648.68417241  8144.80304347\n",
      "1  2018-02-08 18:25:00  6666.16796579  8166.22112407\n",
      "2  2018-02-08 18:20:00  6656.55212047  8154.44147502\n",
      "3  2018-02-08 18:15:00  6631.15257928  8123.32640698\n",
      "4  2018-02-08 18:10:00  6619.34217506  8108.85836883\n"
     ]
    }
   ],
   "source": [
    "df['EUR_px'] = EUR\n",
    "df['USD_px'] = USD\n",
    "print(df.head())"
   ]
  },
  {
   "cell_type": "code",
   "execution_count": 24,
   "metadata": {},
   "outputs": [
    {
     "data": {
      "text/html": [
       "<div>\n",
       "<style scoped>\n",
       "    .dataframe tbody tr th:only-of-type {\n",
       "        vertical-align: middle;\n",
       "    }\n",
       "\n",
       "    .dataframe tbody tr th {\n",
       "        vertical-align: top;\n",
       "    }\n",
       "\n",
       "    .dataframe thead th {\n",
       "        text-align: right;\n",
       "    }\n",
       "</style>\n",
       "<table border=\"1\" class=\"dataframe\">\n",
       "  <thead>\n",
       "    <tr style=\"text-align: right;\">\n",
       "      <th></th>\n",
       "      <th>Meta_Data</th>\n",
       "    </tr>\n",
       "  </thead>\n",
       "  <tbody>\n",
       "    <tr>\n",
       "      <th>0</th>\n",
       "      <td>1. Information</td>\n",
       "    </tr>\n",
       "    <tr>\n",
       "      <th>1</th>\n",
       "      <td>2. Digital Currency Code</td>\n",
       "    </tr>\n",
       "    <tr>\n",
       "      <th>2</th>\n",
       "      <td>3. Digital Currency Name</td>\n",
       "    </tr>\n",
       "    <tr>\n",
       "      <th>3</th>\n",
       "      <td>4. Market Code</td>\n",
       "    </tr>\n",
       "    <tr>\n",
       "      <th>4</th>\n",
       "      <td>5. Market Name</td>\n",
       "    </tr>\n",
       "  </tbody>\n",
       "</table>\n",
       "</div>"
      ],
      "text/plain": [
       "                  Meta_Data\n",
       "0            1. Information\n",
       "1  2. Digital Currency Code\n",
       "2  3. Digital Currency Name\n",
       "3            4. Market Code\n",
       "4            5. Market Name"
      ]
     },
     "execution_count": 24,
     "metadata": {},
     "output_type": "execute_result"
    }
   ],
   "source": [
    "df2 = pd.DataFrame({'Meta_Data': list(test['Meta Data'][0].keys())})\n",
    "df2.head()"
   ]
  },
  {
   "cell_type": "code",
   "execution_count": 30,
   "metadata": {},
   "outputs": [
    {
     "name": "stdout",
     "output_type": "stream",
     "text": [
      "                Meta_Data\n",
      "0             Information\n",
      "1   Digital Currency Code\n",
      "2   Digital Currency Name\n",
      "3             Market Code\n",
      "4             Market Name\n"
     ]
    }
   ],
   "source": [
    "for row in range(df2.shape[0]):\n",
    "    df2.loc[row,'Meta_Data'] = ''.join([i for i in df2.loc[row, 'Meta_Data'] if (not i.isdigit() and i != '.')])\n",
    "print(df2.head())"
   ]
  },
  {
   "cell_type": "code",
   "execution_count": 31,
   "metadata": {},
   "outputs": [
    {
     "data": {
      "text/plain": [
       "dict_keys(['1. Information', '2. Digital Currency Code', '3. Digital Currency Name', '4. Market Code', '5. Market Name', '6. Interval', '7. Last Refreshed', '8. Time Zone'])"
      ]
     },
     "execution_count": 31,
     "metadata": {},
     "output_type": "execute_result"
    }
   ],
   "source": [
    "test['Meta Data'][0].keys()"
   ]
  },
  {
   "cell_type": "code",
   "execution_count": 32,
   "metadata": {},
   "outputs": [
    {
     "data": {
      "text/plain": [
       "dict_values(['Intraday Prices and Volumes for Digital Currency', 'BTC', 'Bitcoin', 'EUR', 'Euro', '5min', '2018-02-08 18:30:00', 'UTC'])"
      ]
     },
     "execution_count": 32,
     "metadata": {},
     "output_type": "execute_result"
    }
   ],
   "source": [
    "test['Meta Data'][0].values()"
   ]
  },
  {
   "cell_type": "code",
   "execution_count": null,
   "metadata": {},
   "outputs": [],
   "source": []
  }
 ],
 "metadata": {
  "kernelspec": {
   "display_name": "Python 3",
   "language": "python",
   "name": "python3"
  },
  "language_info": {
   "codemirror_mode": {
    "name": "ipython",
    "version": 3
   },
   "file_extension": ".py",
   "mimetype": "text/x-python",
   "name": "python",
   "nbconvert_exporter": "python",
   "pygments_lexer": "ipython3",
   "version": "3.6.3"
  }
 },
 "nbformat": 4,
 "nbformat_minor": 2
}
